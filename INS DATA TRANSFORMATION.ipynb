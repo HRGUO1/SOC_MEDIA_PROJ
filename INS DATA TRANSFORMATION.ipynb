{
 "cells": [
  {
   "cell_type": "code",
   "execution_count": 0,
   "metadata": {
    "application/vnd.databricks.v1+cell": {
     "cellMetadata": {
      "byteLimit": 2048000,
      "rowLimit": 10000
     },
     "inputWidgets": {},
     "nuid": "f9da01c7-0505-4eae-a0f1-a0a3681a11f9",
     "showTitle": false,
     "title": ""
    }
   },
   "outputs": [],
   "source": [
    "from pyspark.sql.window import Window\n",
    "from pyspark.sql.functions import *\n",
    "from pyspark.sql.types import *\n",
    "from pyspark.sql.functions import explode, col, lit, when\n",
    "from pyspark.sql.types import StructType, StructField, StringType, LongType, DoubleType\n",
    "from pyspark.sql.functions import monotonically_increasing_id\n"
   ]
  },
  {
   "cell_type": "markdown",
   "metadata": {
    "application/vnd.databricks.v1+cell": {
     "cellMetadata": {
      "byteLimit": 2048000,
      "rowLimit": 10000
     },
     "inputWidgets": {},
     "nuid": "0c5209b9-9125-4e65-92ba-6332e62afc40",
     "showTitle": false,
     "title": ""
    }
   },
   "source": [
    "\n",
    "#### Part 1 - Read Json Data \n"
   ]
  },
  {
   "cell_type": "code",
   "execution_count": 0,
   "metadata": {
    "application/vnd.databricks.v1+cell": {
     "cellMetadata": {
      "byteLimit": 2048000,
      "rowLimit": 10000
     },
     "inputWidgets": {},
     "nuid": "c096b6b8-d39b-476f-bb67-d429440bf1fb",
     "showTitle": false,
     "title": ""
    }
   },
   "outputs": [],
   "source": [
    "base_s3_path = \"s3://s3-apify-instagram-raw-dta/instagram/{}-2023-03-01.json\"\n",
    "base_s3_pfl_path = \"s3://s3-apify-instagram-raw-dta/instagram/Account Profiles/\"\n",
    "base_s3_df_path = \"s3://s3-apify-instagram-raw-dta/DataSchema/\""
   ]
  },
  {
   "cell_type": "markdown",
   "metadata": {
    "application/vnd.databricks.v1+cell": {
     "cellMetadata": {
      "byteLimit": 2048000,
      "rowLimit": 10000
     },
     "inputWidgets": {},
     "nuid": "b84e5975-81a7-4afd-9384-20fe040cd2d6",
     "showTitle": false,
     "title": ""
    }
   },
   "source": [
    "##### 1.1 Post Metrics"
   ]
  },
  {
   "cell_type": "code",
   "execution_count": 0,
   "metadata": {
    "application/vnd.databricks.v1+cell": {
     "cellMetadata": {
      "byteLimit": 2048000,
      "rowLimit": 10000
     },
     "inputWidgets": {},
     "nuid": "ff164d9f-8fae-4b73-bb4d-6a3b3783737a",
     "showTitle": false,
     "title": ""
    }
   },
   "outputs": [],
   "source": [
    "competitors_lst = [\"waterloosparkling\",\"purelifecanada\",\"lacroixwater\", \"bublywater\", \"perriercanada\", \"monsterenergy\", \"sanpellegrinoca\",\"drinkspindrift\", \"montelliercanada\"] \n",
    "# schweppesus brand has no 2023 posts\n",
    "# purelifecanada has no videoViewcount\n",
    "# Brand name association\n"
   ]
  },
  {
   "cell_type": "code",
   "execution_count": 0,
   "metadata": {
    "application/vnd.databricks.v1+cell": {
     "cellMetadata": {
      "byteLimit": 2048000,
      "rowLimit": 10000
     },
     "inputWidgets": {},
     "nuid": "ef41b5a6-2ac3-4129-a346-2025312c3d87",
     "showTitle": false,
     "title": ""
    }
   },
   "outputs": [],
   "source": [
    "pos_metrics = [\n",
    "    \"element.id\", \"element.ownerUsername\", \"element.url\", \"element.commentsCount\", \n",
    "    \"element.likesCount\", \"element.timestamp\", \"element.ownerId\", \n",
    "    \"element.caption\", \"element.type\", \n",
    "    \"element.videoViewCount\", \"element.videoPlayCount\"\n",
    "]\n"
   ]
  },
  {
   "cell_type": "code",
   "execution_count": 0,
   "metadata": {
    "application/vnd.databricks.v1+cell": {
     "cellMetadata": {
      "byteLimit": 2048000,
      "rowLimit": 10000
     },
     "inputWidgets": {},
     "nuid": "a31867f1-b4db-4bba-b21d-5c545b28e028",
     "showTitle": false,
     "title": ""
    }
   },
   "outputs": [],
   "source": [
    "first_path = base_s3_path.format(competitors_lst[0])\n",
    "master_df = spark.read.json(first_path)\n",
    "exploded_df = master_df.select(explode(master_df.data).alias(\"element\"))\n",
    "master_df = exploded_df.select(*pos_metrics)\n",
    "master_df = master_df.withColumn(\"Brand_Association\", lit(competitors_lst[0]))\n"
   ]
  },
  {
   "cell_type": "code",
   "execution_count": 0,
   "metadata": {
    "application/vnd.databricks.v1+cell": {
     "cellMetadata": {
      "byteLimit": 2048000,
      "rowLimit": 10000
     },
     "inputWidgets": {},
     "nuid": "b3fe6ed3-71f3-45f6-8f57-8dd0efc2f82c",
     "showTitle": false,
     "title": ""
    }
   },
   "outputs": [],
   "source": [
    "# Check and adjust schema if any brands without any video post:\n",
    "# Define missing fields and their types\n",
    "missing_fields = {\n",
    "    \"videoViewCount\": LongType(),\n",
    "    \"videoPlayCount\": LongType(),\n",
    "}\n",
    "\n",
    "def add_missing_fields_to_df(df):\n",
    "    # List the current fields in the 'element' struct\n",
    "    current_fields = [col(\"element.\" + field.name) for field in df.schema[\"element\"].dataType]\n",
    "\n",
    "    # For each missing field, if it doesn't exist, add a null column of the correct type\n",
    "    for field, dtype in missing_fields.items():\n",
    "        if not any([fld.name == field for fld in df.schema[\"element\"].dataType]):\n",
    "            current_fields.append(lit(None).cast(dtype).alias(field))\n",
    "\n",
    "    # Rebuild the 'element' struct with the original + new fields\n",
    "    df = df.withColumn(\"element\", struct(*current_fields))\n",
    "\n",
    "    return df\n",
    "\n",
    "for competitor in competitors_lst[1:]:\n",
    "    s3_path = base_s3_path.format(competitor)\n",
    "    df = spark.read.json(s3_path)\n",
    "    exploded_df = df.select(explode(df.data).alias(\"element\"))\n",
    "\n",
    "    # Add missing fields\n",
    "    exploded_df = add_missing_fields_to_df(exploded_df)\n",
    "    \n",
    "    df = exploded_df.select(*pos_metrics)\n",
    "    df = df.withColumn(\"Brand_Association\", lit(competitor))\n",
    "    if master_df is None:\n",
    "        master_df = df\n",
    "    else:\n",
    "        master_df = master_df.union(df)\n",
    "\n"
   ]
  },
  {
   "cell_type": "code",
   "execution_count": 0,
   "metadata": {
    "application/vnd.databricks.v1+cell": {
     "cellMetadata": {
      "byteLimit": 2048000,
      "rowLimit": 10000
     },
     "inputWidgets": {},
     "nuid": "fdf8c5e0-4400-4d5b-96f3-f5f131785cf6",
     "showTitle": false,
     "title": ""
    }
   },
   "outputs": [],
   "source": [
    "master_df = (master_df\n",
    "            .withColumnRenamed(\"id\", \"Post_id\")\n",
    "            .withColumnRenamed(\"ownerUsername\", \"Post_username\")# join profile on brand account name\n",
    "            .withColumnRenamed(\"Brand_Association\", \"Post_brand\") \n",
    "            .withColumnRenamed(\"url\", \"Post_url\")\n",
    "            .withColumnRenamed(\"commentsCount\", \"Post_comments\")\n",
    "            .withColumnRenamed(\"likesCount\", \"Post_likes\")\n",
    "            .withColumnRenamed(\"timestamp\", \"Post_timestamp\")\n",
    "            .withColumnRenamed(\"ownerId\", \"Post_ownerId\") # join profile on brand account id\n",
    "            .withColumnRenamed(\"caption\", \"Post_text\")\n",
    "            .withColumnRenamed(\"type\", \"Post_type\")\n",
    "            .withColumnRenamed(\"videoViewCount\", \"Post_videoView\")\n",
    "            .withColumnRenamed(\"videoPlayCount\", \"Post_videoPlay\")\n",
    "            )\n"
   ]
  },
  {
   "cell_type": "code",
   "execution_count": 0,
   "metadata": {
    "application/vnd.databricks.v1+cell": {
     "cellMetadata": {
      "byteLimit": 2048000,
      "rowLimit": 10000
     },
     "inputWidgets": {},
     "nuid": "ce9b0281-6ab7-4cfb-8d53-3e167d37ef15",
     "showTitle": false,
     "title": ""
    }
   },
   "outputs": [
    {
     "output_type": "stream",
     "name": "stdout",
     "output_type": "stream",
     "text": [
      "+-------------------+-----------------+--------------------+-------------+----------+--------------------+------------+--------------------+---------+--------------+--------------+-----------------+\n|            Post_id|    Post_username|            Post_url|Post_comments|Post_likes|      Post_timestamp|Post_ownerId|           Post_text|Post_type|Post_videoView|Post_videoPlay|       Post_brand|\n+-------------------+-----------------+--------------------+-------------+----------+--------------------+------------+--------------------+---------+--------------+--------------+-----------------+\n|3192015323732758344|waterloosparkling|https://www.insta...|            6|       151|2023-09-15T00:31:...|  4931723958|New season—new mo...|  Sidecar|          NULL|          NULL|waterloosparkling|\n|3192449134413029446|waterloosparkling|https://www.insta...|            3|        83|2023-09-15T14:53:...|  4931723958|Gameday ritual #7...|    Image|          NULL|          NULL|waterloosparkling|\n|3181641419561905486|waterloosparkling|https://www.insta...|            3|       733|2023-08-31T17:03:...|  4931723958|#LaborDay Slay: P...|    Video|         35810|        108972|waterloosparkling|\n|3183817990792645927|waterloosparkling|https://www.insta...|            3|       117|2023-09-03T17:05:...|  4931723958|What we mean when...|    Image|          NULL|          NULL|waterloosparkling|\n|3190305706044764328|waterloosparkling|https://www.insta...|         1175|     12694|2023-09-12T15:54:...|  4931723958|⚽ POP-UP CHAIR GI...|    Image|          NULL|          NULL|waterloosparkling|\n|3185899526212961679|waterloosparkling|https://www.insta...|          120|     17682|2023-09-06T14:00:...|  4931723958|🍎BIG FLAVOR COME...|    Image|          NULL|          NULL|waterloosparkling|\n|3186849191342932080|  laflamablanca95|https://www.insta...|           90|     10659|2023-09-07T21:29:...|   683762681|Football’s back a...|    Video|       1025046|       1978516|waterloosparkling|\n|3187465611932399345|waterloosparkling|https://www.insta...|           27|       214|2023-09-08T17:52:...|  4931723958|What's your go-to...|  Sidecar|          NULL|          NULL|waterloosparkling|\n|3180240030831069908|waterloosparkling|https://www.insta...|           16|      1006|2023-08-29T18:37:...|  4931723958|Defender Casey Kr...|    Video|        126643|        319478|waterloosparkling|\n|3177331187734232248|waterloosparkling|https://www.insta...|           14|       241|2023-08-25T18:38:...|  4931723958|It's not an obses...|    Video|         31023|         99466|waterloosparkling|\n|3181003682014135974|waterloosparkling|https://www.insta...|          162|     11117|2023-08-30T20:01:...|  4931723958|Pumped to be on s...|    Video|        851756|       2144665|waterloosparkling|\n|3176572610024229764|waterloosparkling|https://www.insta...|           82|     10836|2023-08-24T17:09:...|  4931723958|Comeback loading ...|    Image|          NULL|          NULL|waterloosparkling|\n|3172882460634653210|waterloosparkling|https://www.insta...|           41|       914|2023-08-19T14:58:...|  4931723958|Summer is nearly ...|    Video|         74047|        225075|waterloosparkling|\n|3164317030130591395|waterloosparkling|https://www.insta...|            3|        87|2023-08-07T19:20:...|  4931723958|Vacation Mode: On...|  Sidecar|          NULL|          NULL|waterloosparkling|\n|3170877620718264780|waterloosparkling|https://www.insta...|          371|      9649|2023-08-16T20:34:...|  4931723958|⚽ TICKET GIVEAWAY...|    Image|          NULL|          NULL|waterloosparkling|\n|3162098331218696320|waterloosparkling|https://www.insta...|            7|       111|2023-08-04T18:00:...|  4931723958|Double-tap if you...|    Video|           654|          2384|waterloosparkling|\n|3172189194109571442|     netflixbites|https://www.insta...|            2|       116|2023-08-18T16:00:...|  7149185997|Now showing at @N...|    Image|          NULL|          NULL|waterloosparkling|\n|3154137000373893064|waterloosparkling|https://www.insta...|            8|     15461|2023-07-24T18:14:...|  4931723958|We passed you the...|    Image|          NULL|          NULL|waterloosparkling|\n|3159928320786020737|waterloosparkling|https://www.insta...|           27|      4956|2023-08-01T18:02:...|  4931723958|Double tap if you...|    Video|        237273|        337509|waterloosparkling|\n|3175109955546607547|waterloosparkling|https://www.insta...|           77|       750|2023-08-22T16:44:...|  4931723958|Coming back soon....|    Video|        132240|        366551|waterloosparkling|\n+-------------------+-----------------+--------------------+-------------+----------+--------------------+------------+--------------------+---------+--------------+--------------+-----------------+\nonly showing top 20 rows\n\n"
     ]
    }
   ],
   "source": [
    "master_df.show()"
   ]
  },
  {
   "cell_type": "markdown",
   "metadata": {
    "application/vnd.databricks.v1+cell": {
     "cellMetadata": {
      "byteLimit": 2048000,
      "rowLimit": 10000
     },
     "inputWidgets": {},
     "nuid": "e478a5ca-f6bf-4e3f-b9ec-a540c7025e7c",
     "showTitle": false,
     "title": ""
    }
   },
   "source": [
    "##### 1.2 Account (Profile) Metrics"
   ]
  },
  {
   "cell_type": "code",
   "execution_count": 0,
   "metadata": {
    "application/vnd.databricks.v1+cell": {
     "cellMetadata": {
      "byteLimit": 2048000,
      "rowLimit": 10000
     },
     "inputWidgets": {},
     "nuid": "50f6f704-1c50-4097-8d0a-d4ea76355e08",
     "showTitle": false,
     "title": ""
    }
   },
   "outputs": [],
   "source": [
    "pfl_path = base_s3_pfl_path.format('all-brands-profile')\n",
    "pfl_df = spark.read.json(pfl_path)\n",
    "\n",
    "pfl_metrics = [\n",
    "    \"element.id\", \"element.username\", \"element.fullName\", \"element.followersCount\", \"element.followsCount\", \n",
    "    \"element.postsCount\", \"element.url\"\n",
    "]\n",
    "\n",
    "exploded_df_pfl = pfl_df.select(explode(pfl_df.data).alias(\"element\"))\n",
    "pfl_df = exploded_df_pfl.select(*pfl_metrics)"
   ]
  },
  {
   "cell_type": "code",
   "execution_count": 0,
   "metadata": {
    "application/vnd.databricks.v1+cell": {
     "cellMetadata": {
      "byteLimit": 2048000,
      "rowLimit": 10000
     },
     "inputWidgets": {},
     "nuid": "b65da14a-cc17-4054-b053-54d8dd3cf6bd",
     "showTitle": false,
     "title": ""
    }
   },
   "outputs": [],
   "source": [
    "pfl_df = (pfl_df\n",
    "          .withColumnRenamed(\"id\", \"Account_id\")\n",
    "          .withColumnRenamed(\"fullName\", \"Brand_name\")\n",
    "          .withColumnRenamed(\"username\", \"Account_name\")\n",
    "          .withColumnRenamed(\"followersCount\", \"Account_followersCount\")\n",
    "          .withColumnRenamed(\"followsCount\", \"Account_followsCount\")\n",
    "          .withColumnRenamed(\"postsCount\", \"Account_postsCount\")\n",
    "          .withColumnRenamed(\"url\", \"Account_url\")\n",
    "          )\n"
   ]
  },
  {
   "cell_type": "markdown",
   "metadata": {
    "application/vnd.databricks.v1+cell": {
     "cellMetadata": {
      "byteLimit": 2048000,
      "rowLimit": 10000
     },
     "inputWidgets": {},
     "nuid": "60577f27-4235-4720-a4c6-b628f2717a2f",
     "showTitle": false,
     "title": ""
    }
   },
   "source": [
    "#### Part 2 - Data Handling"
   ]
  },
  {
   "cell_type": "markdown",
   "metadata": {
    "application/vnd.databricks.v1+cell": {
     "cellMetadata": {
      "byteLimit": 2048000,
      "rowLimit": 10000
     },
     "inputWidgets": {},
     "nuid": "065d8ae9-be6d-4ff7-9e8f-465865c077f8",
     "showTitle": false,
     "title": ""
    }
   },
   "source": [
    "##### 2.1 Normalization?"
   ]
  },
  {
   "cell_type": "code",
   "execution_count": 0,
   "metadata": {
    "application/vnd.databricks.v1+cell": {
     "cellMetadata": {
      "byteLimit": 2048000,
      "rowLimit": 10000
     },
     "inputWidgets": {},
     "nuid": "f34fe3bf-7430-436f-bbb5-bb286dc913ac",
     "showTitle": false,
     "title": ""
    }
   },
   "outputs": [],
   "source": [
    "post_attributes_df = master_df.select(\"Post_id\", \n",
    "                          \"Post_username\",\n",
    "                          \"Post_ownerId\",\n",
    "                          \"Post_comments\",\n",
    "                          \"Post_likes\",\n",
    "                          \"Post_timestamp\",\n",
    "                          \"Post_url\")"
   ]
  },
  {
   "cell_type": "code",
   "execution_count": 0,
   "metadata": {
    "application/vnd.databricks.v1+cell": {
     "cellMetadata": {
      "byteLimit": 2048000,
      "rowLimit": 10000
     },
     "inputWidgets": {},
     "nuid": "b00a8d23-2f47-43a5-8135-5ee36ff3d263",
     "showTitle": false,
     "title": ""
    }
   },
   "outputs": [
    {
     "output_type": "stream",
     "name": "stdout",
     "output_type": "stream",
     "text": [
      "+-------------------+-----------------+------------+-------------+----------+--------------------+--------------------+\n|            Post_id|    Post_username|Post_ownerId|Post_comments|Post_likes|      Post_timestamp|            Post_url|\n+-------------------+-----------------+------------+-------------+----------+--------------------+--------------------+\n|3192015323732758344|waterloosparkling|  4931723958|            6|       151|2023-09-15T00:31:...|https://www.insta...|\n|3192449134413029446|waterloosparkling|  4931723958|            3|        83|2023-09-15T14:53:...|https://www.insta...|\n|3181641419561905486|waterloosparkling|  4931723958|            3|       733|2023-08-31T17:03:...|https://www.insta...|\n|3183817990792645927|waterloosparkling|  4931723958|            3|       117|2023-09-03T17:05:...|https://www.insta...|\n|3190305706044764328|waterloosparkling|  4931723958|         1175|     12694|2023-09-12T15:54:...|https://www.insta...|\n|3185899526212961679|waterloosparkling|  4931723958|          120|     17682|2023-09-06T14:00:...|https://www.insta...|\n|3186849191342932080|  laflamablanca95|   683762681|           90|     10659|2023-09-07T21:29:...|https://www.insta...|\n|3187465611932399345|waterloosparkling|  4931723958|           27|       214|2023-09-08T17:52:...|https://www.insta...|\n|3180240030831069908|waterloosparkling|  4931723958|           16|      1006|2023-08-29T18:37:...|https://www.insta...|\n|3177331187734232248|waterloosparkling|  4931723958|           14|       241|2023-08-25T18:38:...|https://www.insta...|\n|3181003682014135974|waterloosparkling|  4931723958|          162|     11117|2023-08-30T20:01:...|https://www.insta...|\n|3176572610024229764|waterloosparkling|  4931723958|           82|     10836|2023-08-24T17:09:...|https://www.insta...|\n|3172882460634653210|waterloosparkling|  4931723958|           41|       914|2023-08-19T14:58:...|https://www.insta...|\n|3164317030130591395|waterloosparkling|  4931723958|            3|        87|2023-08-07T19:20:...|https://www.insta...|\n|3170877620718264780|waterloosparkling|  4931723958|          371|      9649|2023-08-16T20:34:...|https://www.insta...|\n|3162098331218696320|waterloosparkling|  4931723958|            7|       111|2023-08-04T18:00:...|https://www.insta...|\n|3172189194109571442|     netflixbites|  7149185997|            2|       116|2023-08-18T16:00:...|https://www.insta...|\n|3154137000373893064|waterloosparkling|  4931723958|            8|     15461|2023-07-24T18:14:...|https://www.insta...|\n|3159928320786020737|waterloosparkling|  4931723958|           27|      4956|2023-08-01T18:02:...|https://www.insta...|\n|3175109955546607547|waterloosparkling|  4931723958|           77|       750|2023-08-22T16:44:...|https://www.insta...|\n|3157000892989140871|waterloosparkling|  4931723958|           13|      2075|2023-07-28T17:04:...|https://www.insta...|\n|3169405872606283803|waterloosparkling|  4931723958|           16|       107|2023-08-14T19:50:...|https://www.insta...|\n|3161291784839513976|waterloosparkling|  4931723958|         1275|     16546|2023-08-03T15:09:...|https://www.insta...|\n|3166513494457879446|waterloosparkling|  4931723958|           17|       125|2023-08-10T20:12:...|https://www.insta...|\n|3152183804469557188|waterloosparkling|  4931723958|            6|       155|2023-07-22T01:33:...|https://www.insta...|\n|3150546316747575172|waterloosparkling|  4931723958|            9|        86|2023-07-19T19:24:...|https://www.insta...|\n|3136618146064027185|waterloosparkling|  4931723958|           15|      2379|2023-06-30T14:15:...|https://www.insta...|\n|3146912510376451945|waterloosparkling|  4931723958|           63|       172|2023-07-14T19:00:...|https://www.insta...|\n|3135900661787249551|waterloosparkling|  4931723958|           14|      1517|2023-06-29T14:22:...|https://www.insta...|\n|3137309277118998682|waterloosparkling|  4931723958|          567|      4548|2023-07-01T13:00:...|https://www.insta...|\n|3144637379118449546|waterloosparkling|  4931723958|           10|       360|2023-07-11T15:40:...|https://www.insta...|\n|3148246141073881032|waterloosparkling|  4931723958|            1|       129|2023-07-16T15:10:...|https://www.insta...|\n|3147549529347897018|waterloosparkling|  4931723958|            3|       115|2023-07-15T16:06:...|https://www.insta...|\n|3141703028385666834|waterloosparkling|  4931723958|           78|      3663|2023-07-07T14:30:...|https://www.insta...|\n|3139543976855546712|waterloosparkling|  4931723958|           12|       118|2023-07-04T15:00:...|https://www.insta...|\n|3121490337738183345|waterloosparkling|  4931723958|           16|       390|2023-06-09T17:11:...|https://www.insta...|\n|3133772779773644175|waterloosparkling|  4931723958|            8|        90|2023-06-26T15:54:...|https://www.insta...|\n|3130162013677858227|waterloosparkling|  4931723958|            3|       141|2023-06-21T16:20:...|https://www.insta...|\n|3117854895369197287|waterloosparkling|  4931723958|           36|       265|2023-06-04T16:48:...|https://www.insta...|\n|3128011778516262514|waterloosparkling|  4931723958|            2|       115|2023-06-18T17:08:...|https://www.insta...|\n|3116426604121139367|waterloosparkling|  4931723958|           25|       349|2023-06-02T17:30:...|https://www.insta...|\n|3120001574633704063|waterloosparkling|  4931723958|            3|       102|2023-06-07T15:53:...|https://www.insta...|\n|3119235018543133613|waterloosparkling|  4931723958|         1556|     17904|2023-06-06T14:30:...|https://www.insta...|\n|3124350229255654258|waterloosparkling|  4931723958|           19|       266|2023-06-13T15:53:...|https://www.insta...|\n|3143927470331110029|waterloosparkling|  4931723958|           75|      5231|2023-07-10T16:10:...|https://www.insta...|\n|3131664465402208524|waterloosparkling|  4931723958|            1|       128|2023-06-23T18:05:...|https://www.insta...|\n|3114232246257188863|waterloosparkling|  4931723958|         2013|     18115|2023-05-30T16:50:...|https://www.insta...|\n|3113469470769248226|waterloosparkling|  4931723958|            3|       112|2023-05-29T15:35:...|https://www.insta...|\n|3110546400676761327|waterloosparkling|  4931723958|           10|       281|2023-05-25T14:47:...|https://www.insta...|\n|3109145638466043583|waterloosparkling|  4931723958|           23|       222|2023-05-23T16:24:...|https://www.insta...|\n|3103965960491563116|waterloosparkling|  4931723958|           93|      6266|2023-05-16T12:56:...|https://www.insta...|\n|3100516760724785067|waterloosparkling|  4931723958|            3|       122|2023-05-11T18:40:...|https://www.insta...|\n|3099119897605936180|waterloosparkling|  4931723958|            6|       128|2023-05-09T20:26:...|https://www.insta...|\n|3106350620306798646|waterloosparkling|  4931723958|           42|       947|2023-05-19T19:51:...|https://www.insta...|\n|3102575711944259949|waterloosparkling|  4931723958|           17|       808|2023-05-14T14:51:...|https://www.insta...|\n|3097622151367745172|      curtisstone|    25253091|           72|     19274|2023-05-07T18:51:...|https://www.insta...|\n|3094632918554843724|waterloosparkling|  4931723958|           97|       811|2023-05-03T15:50:...|https://www.insta...|\n|3104751098643954601|waterloosparkling|  4931723958|           35|     25695|2023-05-17T14:53:...|https://www.insta...|\n|3091132840628279027|waterloosparkling|  4931723958|            5|        81|2023-04-28T19:56:...|https://www.insta...|\n|3085192150404760473|waterloosparkling|  4931723958|          543|      6480|2023-04-20T15:13:...|https://www.insta...|\n|3093293786682711139|waterloosparkling|  4931723958|           13|       119|2023-05-01T19:37:...|https://www.insta...|\n|3087354386250948399|waterloosparkling|  4931723958|            3|       124|2023-04-23T14:49:...|https://www.insta...|\n|3078655596786267582|waterloosparkling|  4931723958|            0|        66|2023-04-11T14:46:...|https://www.insta...|\n|3083039771752996482|waterloosparkling|  4931723958|           42|      3680|2023-04-17T15:57:...|https://www.insta...|\n|3074308964044488260|waterloosparkling|  4931723958|           10|      1741|2023-04-05T14:50:...|https://www.insta...|\n|3075758496909833526|waterloosparkling|  4931723958|          368|     13925|2023-04-07T14:50:...|https://www.insta...|\n|3073609205440461998|waterloosparkling|  4931723958|            2|        99|2023-04-04T15:39:...|https://www.insta...|\n|3088863671178507262|waterloosparkling|  4931723958|           23|       774|2023-04-25T16:48:...|https://www.insta...|\n|3080162058460922219|waterloosparkling|  4931723958|           28|       266|2023-04-13T16:44:...|https://www.insta...|\n|3125838482618392625|waterloosparkling|  4931723958|         1131|      6355|2023-06-15T17:10:...|https://www.insta...|\n|3063447878286817411|waterloosparkling|  4931723958|           27|       409|2023-03-21T15:11:...|https://www.insta...|\n|3070697608356329622|waterloosparkling|  4931723958|            9|      3673|2023-03-31T15:15:...|https://www.insta...|\n|3056912305221230240|waterloosparkling|  4931723958|          241|       605|2023-03-12T14:46:...|https://www.insta...|\n|3069961799760150184|waterloosparkling|  4931723958|           77|     35685|2023-03-30T14:53:...|https://www.insta...|\n|3059954049486286481|waterloosparkling|  4931723958|            4|      1553|2023-03-16T19:32:...|https://www.insta...|\n|3068519806601280315|waterloosparkling|  4931723958|            9|       196|2023-03-28T15:08:...|https://www.insta...|\n|3060550064044640817|waterloosparkling|  4931723958|         1629|      1583|2023-03-17T15:19:...|https://www.insta...|\n|3052689976484396704|waterloosparkling|  4931723958|           55|     33581|2023-03-06T18:57:...|https://www.insta...|\n|3065619712990637145|waterloosparkling|  4931723958|          363|     18805|2023-03-24T15:06:...|https://www.insta...|\n|3049641642118168555|waterloosparkling|  4931723958|          182|      3438|2023-03-02T14:00:...|https://www.insta...|\n|3096132223405631833|waterloosparkling|  4931723958|          495|     29656|2023-05-05T17:29:...|https://www.insta...|\n|3054891793564051940|waterloosparkling|  4931723958|           20|       970|2023-03-09T19:56:...|https://www.insta...|\n|3081574488739494293|waterloosparkling|  4931723958|           14|       107|2023-04-15T15:25:...|https://www.insta...|\n|3054074600564639964|waterloosparkling|  4931723958|           77|     30816|2023-03-08T16:48:...|https://www.insta...|\n|3139558888151754431|   purelifecanada|  7475812957|            0|        10|2023-07-04T15:30:...|https://www.insta...|\n|3176522435292524420|   purelifecanada|  7475812957|            0|         3|2023-08-24T15:30:...|https://www.insta...|\n|3154054387097221117|   purelifecanada|  7475812957|            2|         6|2023-07-24T15:30:...|https://www.insta...|\n|3125063352252942247|   purelifecanada|  7475812957|            7|        11|2023-06-14T15:30:...|https://www.insta...|\n|3131510863725447804|   purelifecanada|  7475812957|            0|         6|2023-06-23T13:00:...|https://www.insta...|\n|3169999471009766685|   purelifecanada|  7475812957|            0|         8|2023-08-15T15:30:...|https://www.insta...|\n|3190308962250552042|   purelifecanada|  7475812957|            0|        11|2023-09-12T16:01:...|https://www.insta...|\n|3166380973628217663|   purelifecanada|  7475812957|            0|         4|2023-08-10T15:40:...|https://www.insta...|\n|3119989936974130356|   purelifecanada|  7475812957|            0|         5|2023-06-07T15:30:...|https://www.insta...|\n|3182320693201109593|   purelifecanada|  7475812957|            0|         5|2023-09-01T15:30:...|https://www.insta...|\n|3146081859968800048|   purelifecanada|  7475812957|            0|         6|2023-07-13T15:30:...|https://www.insta...|\n|3114916497328050767|   purelifecanada|  7475812957|            2|        10|2023-05-31T15:30:...|https://www.insta...|\n|3099696238981943593|   purelifecanada|  7475812957|            0|        15|2023-05-10T15:30:...|https://www.insta...|\n|3104769641016994765|   purelifecanada|  7475812957|            0|        11|2023-05-17T15:30:...|https://www.insta...|\n|3191849663556646892|     lacroixwater|   597611708|           28|       625|2023-09-14T19:02:...|https://www.insta...|\n|3190333612837670250|     lacroixwater|   597611708|           25|       329|2023-09-12T16:53:...|https://www.insta...|\n+-------------------+-----------------+------------+-------------+----------+--------------------+--------------------+\nonly showing top 100 rows\n\n"
     ]
    }
   ],
   "source": [
    "post_attributes_df.show(100)"
   ]
  },
  {
   "cell_type": "code",
   "execution_count": 0,
   "metadata": {
    "application/vnd.databricks.v1+cell": {
     "cellMetadata": {
      "byteLimit": 2048000,
      "rowLimit": 10000
     },
     "inputWidgets": {},
     "nuid": "c9e407e1-dd63-4fca-9886-68ef57b116e2",
     "showTitle": false,
     "title": ""
    }
   },
   "outputs": [],
   "source": [
    "post_details_df = master_df.select(\"Post_id\", \n",
    "                          \"Post_username\",\n",
    "                          \"Post_ownerId\",\n",
    "                          \"Post_text\",\n",
    "                          \"Post_type\",\n",
    "                          \"Post_videoView\",\n",
    "                          \"Post_videoPlay\")"
   ]
  },
  {
   "cell_type": "code",
   "execution_count": 0,
   "metadata": {
    "application/vnd.databricks.v1+cell": {
     "cellMetadata": {
      "byteLimit": 2048000,
      "rowLimit": 10000
     },
     "inputWidgets": {},
     "nuid": "723f1a35-7b1d-446c-bf5e-78c71e5b1630",
     "showTitle": false,
     "title": ""
    }
   },
   "outputs": [
    {
     "output_type": "stream",
     "name": "stdout",
     "output_type": "stream",
     "text": [
      "+-------------------+-----------------+------------+--------------------+---------+--------------+--------------+\n|            Post_id|    Post_username|Post_ownerId|           Post_text|Post_type|Post_videoView|Post_videoPlay|\n+-------------------+-----------------+------------+--------------------+---------+--------------+--------------+\n|3192015323732758344|waterloosparkling|  4931723958|New season—new mo...|  Sidecar|          NULL|          NULL|\n|3192449134413029446|waterloosparkling|  4931723958|Gameday ritual #7...|    Image|          NULL|          NULL|\n|3181641419561905486|waterloosparkling|  4931723958|#LaborDay Slay: P...|    Video|         35810|        108972|\n|3183817990792645927|waterloosparkling|  4931723958|What we mean when...|    Image|          NULL|          NULL|\n|3190305706044764328|waterloosparkling|  4931723958|⚽ POP-UP CHAIR GI...|    Image|          NULL|          NULL|\n|3185899526212961679|waterloosparkling|  4931723958|🍎BIG FLAVOR COME...|    Image|          NULL|          NULL|\n|3186849191342932080|  laflamablanca95|   683762681|Football’s back a...|    Video|       1025046|       1978516|\n|3187465611932399345|waterloosparkling|  4931723958|What's your go-to...|  Sidecar|          NULL|          NULL|\n|3180240030831069908|waterloosparkling|  4931723958|Defender Casey Kr...|    Video|        126643|        319478|\n|3177331187734232248|waterloosparkling|  4931723958|It's not an obses...|    Video|         31023|         99466|\n|3181003682014135974|waterloosparkling|  4931723958|Pumped to be on s...|    Video|        851756|       2144665|\n|3176572610024229764|waterloosparkling|  4931723958|Comeback loading ...|    Image|          NULL|          NULL|\n|3172882460634653210|waterloosparkling|  4931723958|Summer is nearly ...|    Video|         74047|        225075|\n|3164317030130591395|waterloosparkling|  4931723958|Vacation Mode: On...|  Sidecar|          NULL|          NULL|\n|3170877620718264780|waterloosparkling|  4931723958|⚽ TICKET GIVEAWAY...|    Image|          NULL|          NULL|\n|3162098331218696320|waterloosparkling|  4931723958|Double-tap if you...|    Video|           654|          2384|\n|3172189194109571442|     netflixbites|  7149185997|Now showing at @N...|    Image|          NULL|          NULL|\n|3154137000373893064|waterloosparkling|  4931723958|We passed you the...|    Image|          NULL|          NULL|\n|3159928320786020737|waterloosparkling|  4931723958|Double tap if you...|    Video|        237273|        337509|\n|3175109955546607547|waterloosparkling|  4931723958|Coming back soon....|    Video|        132240|        366551|\n|3157000892989140871|waterloosparkling|  4931723958|Defender Casey Kr...|    Video|        194467|        498087|\n|3169405872606283803|waterloosparkling|  4931723958|Immersed in music...|  Sidecar|          NULL|          NULL|\n|3161291784839513976|waterloosparkling|  4931723958|⛳️GIVEAWAY ⛳️ We ...|    Image|          NULL|          NULL|\n|3166513494457879446|waterloosparkling|  4931723958|Mentally still he...|    Video|          1372|          4711|\n|3152183804469557188|waterloosparkling|  4931723958|We’re all in for ...|  Sidecar|          NULL|          NULL|\n|3150546316747575172|waterloosparkling|  4931723958|A beachside Water...|    Video|           693|          2268|\n|3136618146064027185|waterloosparkling|  4931723958|Casey Krueger is ...|    Video|        340561|        752709|\n|3146912510376451945|waterloosparkling|  4931723958|Which is your fav...|    Image|          NULL|          NULL|\n|3135900661787249551|waterloosparkling|  4931723958|Before you head o...|    Video|        408417|        831490|\n|3137309277118998682|waterloosparkling|  4931723958|☀️ LOLLAPALOOZA G...|    Image|          NULL|          NULL|\n|3144637379118449546|waterloosparkling|  4931723958|Tropical bliss is...|    Video|         71214|        200779|\n|3148246141073881032|waterloosparkling|  4931723958|Here's the scoop—...|    Video|          1271|          3853|\n|3147549529347897018|waterloosparkling|  4931723958|Cheers to big vie...|    Image|          NULL|          NULL|\n|3141703028385666834|waterloosparkling|  4931723958|🎵 PITCHFORK MUSI...|    Image|          NULL|          NULL|\n|3139543976855546712|waterloosparkling|  4931723958|Celebrating the #...|    Image|          NULL|          NULL|\n|3121490337738183345|waterloosparkling|  4931723958|Now pouring: Para...|  Sidecar|          NULL|          NULL|\n|3133772779773644175|waterloosparkling|  4931723958|When you're chann...|    Image|          NULL|          NULL|\n|3130162013677858227|waterloosparkling|  4931723958|Day-to-night summ...|  Sidecar|          NULL|          NULL|\n|3117854895369197287|waterloosparkling|  4931723958|Waterloo on ice, ...|  Sidecar|          NULL|          NULL|\n|3128011778516262514|waterloosparkling|  4931723958|Today we celebrat...|    Image|          NULL|          NULL|\n|3116426604121139367|waterloosparkling|  4931723958|Bake with it, coo...|  Sidecar|          NULL|          NULL|\n|3120001574633704063|waterloosparkling|  4931723958|🏃‍♂️💨 Sprint, s...|    Image|          NULL|          NULL|\n|3119235018543133613|waterloosparkling|  4931723958|🏕️ HAMMOCK GIVEA...|    Image|          NULL|          NULL|\n|3124350229255654258|waterloosparkling|  4931723958|Cool down as summ...|    Image|          NULL|          NULL|\n|3143927470331110029|waterloosparkling|  4931723958|Grab and go! 🌊\\n...|    Video|        425699|        893492|\n|3131664465402208524|waterloosparkling|  4931723958|Ready for the fir...|    Image|          NULL|          NULL|\n|3114232246257188863|waterloosparkling|  4931723958|🧺 PICNIC BASKET ...|    Image|          NULL|          NULL|\n|3113469470769248226|waterloosparkling|  4931723958|Today, we honor a...|    Image|          NULL|          NULL|\n|3110546400676761327|waterloosparkling|  4931723958|What’s better tha...|  Sidecar|          NULL|          NULL|\n|3109145638466043583|waterloosparkling|  4931723958|The Agua Fresca: ...|  Sidecar|          NULL|          NULL|\n|3103965960491563116|waterloosparkling|  4931723958|I’m back again wi...|    Video|       1226473|       2873600|\n|3100516760724785067|waterloosparkling|  4931723958|Check out our lat...|    Video|          1148|          3655|\n|3099119897605936180|waterloosparkling|  4931723958|This @beachlifefe...|    Video|          1286|          3695|\n|3106350620306798646|waterloosparkling|  4931723958|Bake up this read...|  Sidecar|          NULL|          NULL|\n|3102575711944259949|waterloosparkling|  4931723958|Happy Mother's Da...|    Image|          NULL|          NULL|\n|3097622151367745172|      curtisstone|    25253091|Mother’s Day is o...|    Video|        425668|        939217|\n|3094632918554843724|waterloosparkling|  4931723958|Summer’s coming, ...|    Video|        205469|        358057|\n|3104751098643954601|waterloosparkling|  4931723958|“It's not a want,...|    Image|          NULL|          NULL|\n|3091132840628279027|waterloosparkling|  4931723958|@zaynab_issa crea...|  Sidecar|          NULL|          NULL|\n|3085192150404760473|waterloosparkling|  4931723958|🎟️ Napa Valley F...|    Image|          NULL|          NULL|\n|3093293786682711139|waterloosparkling|  4931723958|Set up camp with ...|    Video|          1270|          3220|\n|3087354386250948399|waterloosparkling|  4931723958|Welcome back - su...|    Image|          NULL|          NULL|\n|3078655596786267582|waterloosparkling|  4931723958|She knows what’s ...|    Image|          NULL|          NULL|\n|3083039771752996482|waterloosparkling|  4931723958|Zesty. Complex. S...|    Video|        624133|       1293786|\n|3074308964044488260|waterloosparkling|  4931723958|Who else is cravi...|    Video|        473845|        892769|\n|3075758496909833526|waterloosparkling|  4931723958|🎶 TICKET GIVEAWA...|    Image|          NULL|          NULL|\n|3073609205440461998|waterloosparkling|  4931723958|Here nostalgic Bl...|  Sidecar|          NULL|          NULL|\n|3088863671178507262|waterloosparkling|  4931723958|Summer’s coming, ...|    Video|        199900|        359338|\n|3080162058460922219|waterloosparkling|  4931723958|May we suggest so...|    Video|          1950|          5733|\n|3125838482618392625|waterloosparkling|  4931723958|⚽ AUSTIN FC TICKE...|    Image|          NULL|          NULL|\n|3063447878286817411|waterloosparkling|  4931723958|Thanks to @curtis...|    Image|          NULL|          NULL|\n|3070697608356329622|waterloosparkling|  4931723958|Kicking off the N...|    Image|          NULL|          NULL|\n|3056912305221230240|waterloosparkling|  4931723958|It's time to make...|    Image|          NULL|          NULL|\n|3069961799760150184|waterloosparkling|  4931723958|Fun fact: Sparkli...|    Image|          NULL|          NULL|\n|3059954049486286481|waterloosparkling|  4931723958|🥢Ginger Citrus T...|    Video|        328867|        689958|\n|3068519806601280315|waterloosparkling|  4931723958|A fresh take on t...|    Image|          NULL|          NULL|\n|3060550064044640817|waterloosparkling|  4931723958|🎵 BOOMBOX COOLER...|    Video|        137100|        243666|\n|3052689976484396704|waterloosparkling|  4931723958|Prepare yourself....|    Image|          NULL|          NULL|\n|3065619712990637145|waterloosparkling|  4931723958|👨‍🍳 COOKING CLA...|    Image|          NULL|          NULL|\n|3049641642118168555|waterloosparkling|  4931723958|🍊 NEW FLAVOR ALE...|  Sidecar|          NULL|          NULL|\n|3096132223405631833|waterloosparkling|  4931723958|😎 FESTIVAL ESSEN...|    Image|          NULL|          NULL|\n|3054891793564051940|waterloosparkling|  4931723958|Whip. Dip. Sip. R...|    Video|        279323|        691402|\n|3081574488739494293|waterloosparkling|  4931723958|On #WorldArtDay, ...|  Sidecar|          NULL|          NULL|\n|3054074600564639964|waterloosparkling|  4931723958|Chef @curtisstone...|    Image|          NULL|          NULL|\n|3139558888151754431|   purelifecanada|  7475812957|Keep the kids coo...|  Sidecar|          NULL|          NULL|\n|3176522435292524420|   purelifecanada|  7475812957|A little healthy ...|    Image|          NULL|          NULL|\n|3154054387097221117|   purelifecanada|  7475812957|There’s nothing l...|    Image|          NULL|          NULL|\n|3125063352252942247|   purelifecanada|  7475812957|Bottles on board!...|    Image|          NULL|          NULL|\n|3131510863725447804|   purelifecanada|  7475812957|Celebrate Nationa...|  Sidecar|          NULL|          NULL|\n|3169999471009766685|   purelifecanada|  7475812957|Find your happy p...|    Image|          NULL|          NULL|\n|3190308962250552042|   purelifecanada|  7475812957|Trick or treating...|  Sidecar|          NULL|          NULL|\n|3166380973628217663|   purelifecanada|  7475812957|A bottle of healt...|  Sidecar|          NULL|          NULL|\n|3119989936974130356|   purelifecanada|  7475812957|Pure Life and sum...|    Image|          NULL|          NULL|\n|3182320693201109593|   purelifecanada|  7475812957|Pack those school...|    Image|          NULL|          NULL|\n|3146081859968800048|   purelifecanada|  7475812957|Outdoor adventure...|    Image|          NULL|          NULL|\n|3114916497328050767|   purelifecanada|  7475812957|When the sun is s...|    Image|          NULL|          NULL|\n|3099696238981943593|   purelifecanada|  7475812957|From backseats to...|  Sidecar|          NULL|          NULL|\n|3104769641016994765|   purelifecanada|  7475812957|A hydrated family...|    Image|          NULL|          NULL|\n|3191849663556646892|     lacroixwater|   597611708|Which LaCroix are...|    Image|          NULL|          NULL|\n|3190333612837670250|     lacroixwater|   597611708|Get in, we're goi...|    Video|          2637|          7662|\n+-------------------+-----------------+------------+--------------------+---------+--------------+--------------+\nonly showing top 100 rows\n\n"
     ]
    }
   ],
   "source": [
    "post_details_df.show(100)"
   ]
  },
  {
   "cell_type": "code",
   "execution_count": 0,
   "metadata": {
    "application/vnd.databricks.v1+cell": {
     "cellMetadata": {
      "byteLimit": 2048000,
      "rowLimit": 10000
     },
     "inputWidgets": {},
     "nuid": "fbc07ada-f404-4b56-b4d6-b20fa1f73553",
     "showTitle": false,
     "title": ""
    }
   },
   "outputs": [],
   "source": [
    "brand_df = (pfl_df.select(\"Brand_name\")\n",
    "                   .withColumn(\"Brand_id\", monotonically_increasing_id()))"
   ]
  },
  {
   "cell_type": "code",
   "execution_count": 0,
   "metadata": {
    "application/vnd.databricks.v1+cell": {
     "cellMetadata": {
      "byteLimit": 2048000,
      "rowLimit": 10000
     },
     "inputWidgets": {},
     "nuid": "8094e87d-47dd-468f-b8d4-84c6784657ec",
     "showTitle": false,
     "title": ""
    }
   },
   "outputs": [
    {
     "output_type": "stream",
     "name": "stdout",
     "output_type": "stream",
     "text": [
      "+--------------------+--------+\n|          Brand_name|Brand_id|\n+--------------------+--------+\n|LaCroix Sparkling...|       0|\n|bubly sparkling w...|       1|\n|      Perrier Canada|       2|\n|      Monster Energy|       3|\n|        S.Pellegrino|       4|\n|Waterloo Sparklin...|       5|\n|Spindrift Sparkli...|       6|\n|           Schweppes|       7|\n|    Pure Life Canada|       8|\n|          Montellier|       9|\n+--------------------+--------+\n\n"
     ]
    }
   ],
   "source": [
    "brand_df.show(100)"
   ]
  },
  {
   "cell_type": "code",
   "execution_count": 0,
   "metadata": {
    "application/vnd.databricks.v1+cell": {
     "cellMetadata": {
      "byteLimit": 2048000,
      "rowLimit": 10000
     },
     "inputWidgets": {},
     "nuid": "4f58667d-5d24-406f-a6e7-e5c92b3afc15",
     "showTitle": false,
     "title": ""
    }
   },
   "outputs": [],
   "source": [
    "account_df = pfl_df.select(\"Account_id\", \n",
    "                          \"Account_name\",\n",
    "                          \"Account_followersCount\",\n",
    "                          \"Account_followsCount\",\n",
    "                          \"Account_postsCount\",\n",
    "                          \"Account_url\")"
   ]
  },
  {
   "cell_type": "code",
   "execution_count": 0,
   "metadata": {
    "application/vnd.databricks.v1+cell": {
     "cellMetadata": {
      "byteLimit": 2048000,
      "rowLimit": 10000
     },
     "inputWidgets": {},
     "nuid": "f3195110-43b1-4054-9929-a627ee905cfa",
     "showTitle": false,
     "title": ""
    }
   },
   "outputs": [
    {
     "output_type": "stream",
     "name": "stdout",
     "output_type": "stream",
     "text": [
      "+-----------+-----------------+----------------------+--------------------+------------------+--------------------+\n| Account_id|     Account_name|Account_followersCount|Account_followsCount|Account_postsCount|         Account_url|\n+-----------+-----------------+----------------------+--------------------+------------------+--------------------+\n|  597611708|     lacroixwater|                204222|                 436|              5689|https://www.insta...|\n| 6268579358|       bublywater|                 52951|                 121|               717|https://www.insta...|\n|   18360162|    perriercanada|                  6358|                 645|               989|https://www.insta...|\n|   14653744|    monsterenergy|               8559977|                1332|              8120|https://www.insta...|\n|42560281358|  sanpellegrinoca|                  1611|                  64|                95|https://www.insta...|\n| 4931723958|waterloosparkling|                 56380|                 578|               610|https://www.insta...|\n|  475047448|   drinkspindrift|                169683|                2636|              2038|https://www.insta...|\n| 4135935782|      schweppesus|                  8378|                  28|                22|https://www.insta...|\n| 7475812957|   purelifecanada|                   890|                 567|                43|https://www.insta...|\n| 4821419416| montelliercanada|                  6803|                 910|               837|https://www.insta...|\n+-----------+-----------------+----------------------+--------------------+------------------+--------------------+\n\n"
     ]
    }
   ],
   "source": [
    "account_df.show() "
   ]
  },
  {
   "cell_type": "code",
   "execution_count": 0,
   "metadata": {
    "application/vnd.databricks.v1+cell": {
     "cellMetadata": {
      "byteLimit": 2048000,
      "rowLimit": 10000
     },
     "inputWidgets": {},
     "nuid": "f54d3c8e-3ac1-410e-b232-64b2c91e6d4c",
     "showTitle": false,
     "title": ""
    }
   },
   "outputs": [],
   "source": [
    "Partnership_account = master_df.select( \"Post_username\",\n",
    "                          \"Post_ownerId\",\n",
    "                          \"Post_brand\").distinct() # post_brand is brand'username, not brand name"
   ]
  },
  {
   "cell_type": "code",
   "execution_count": 0,
   "metadata": {
    "application/vnd.databricks.v1+cell": {
     "cellMetadata": {
      "byteLimit": 2048000,
      "rowLimit": 10000
     },
     "inputWidgets": {},
     "nuid": "3642218e-c824-44eb-ac85-16399b3a50cd",
     "showTitle": false,
     "title": ""
    }
   },
   "outputs": [
    {
     "output_type": "stream",
     "name": "stdout",
     "output_type": "stream",
     "text": [
      "+------------------+------------+-----------------+\n|     Post_username|Post_ownerId|       Post_brand|\n+------------------+------------+-----------------+\n|    purelifecanada|  7475812957|   purelifecanada|\n|        bublywater|  6268579358|       bublywater|\n|            xgames|     9190921|    monsterenergy|\n|             gopro|    28902942|    monsterenergy|\n|       monsterarmy|   222624161|    monsterenergy|\n|   strickland_mma_| 54427630273|    monsterenergy|\n|     monstergaming|    29891576|    monsterenergy|\n|     monsterenergy|    14653744|    monsterenergy|\n|    class1official| 38043412513|    monsterenergy|\n|      monstermusic|    43545679|    monsterenergy|\n|      hailiedeegan|   289393301|    monsterenergy|\n|     briandeegan38|    20416882|    monsterenergy|\n|   bulletvalentina|  1579112483|    monsterenergy|\n|              mxgp|   201585872|    monsterenergy|\n|monsterenergygirls|  1528418435|    monsterenergy|\n|          brendog1|     8920714|    monsterenergy|\n|               ufc|    22832340|    monsterenergy|\n|     rosenamajunas|   191481764|    monsterenergy|\n|            motogp|   303323894|    monsterenergy|\n|        p1offshore| 11523106123|    monsterenergy|\n|         powerslap| 52822517826|    monsterenergy|\n|    drinkspindrift|   475047448|   drinkspindrift|\n|       aliabakesto|  2516219090| montelliercanada|\n|  troisfoisparjour|   323507737| montelliercanada|\n|  tiannastastebuds| 21275460696| montelliercanada|\n|  monsieurcocktail|  2218225726| montelliercanada|\n|        abelaslife|   180403375| montelliercanada|\n|  montelliercanada|  4821419416| montelliercanada|\n|   laflamablanca95|   683762681|waterloosparkling|\n|       curtisstone|    25253091|waterloosparkling|\n|      netflixbites|  7149185997|waterloosparkling|\n| waterloosparkling|  4931723958|waterloosparkling|\n|      lacroixwater|   597611708|     lacroixwater|\n|        carlilloyd|    26997247|     lacroixwater|\n|      katieledecky|  1500292598|     lacroixwater|\n|   yorkvillemurals| 14283956532|    perriercanada|\n|     perriercanada|    18360162|    perriercanada|\n|   sanpellegrinoca| 42560281358|  sanpellegrinoca|\n|   secondharvestca|   173684399|  sanpellegrinoca|\n+------------------+------------+-----------------+\n\n"
     ]
    }
   ],
   "source": [
    "Partnership_account.show(100) "
   ]
  },
  {
   "cell_type": "code",
   "execution_count": 0,
   "metadata": {
    "application/vnd.databricks.v1+cell": {
     "cellMetadata": {
      "byteLimit": 2048000,
      "rowLimit": 10000
     },
     "collapsed": true,
     "inputWidgets": {},
     "nuid": "780cb1f9-2c68-4bf0-88eb-142c96d188c4",
     "showTitle": false,
     "title": ""
    }
   },
   "outputs": [],
   "source": [
    "master_df.write.mode(\"overwrite\").parquet(\"s3://s3-apify-instagram-raw-dta/DataSchema/master_df.parquet\")\n",
    "post_attributes_df.write.mode(\"overwrite\").parquet(\"s3://s3-apify-instagram-raw-dta/DataSchema/post_attributes_df.parquet\")\n",
    "post_details_df.write.mode(\"overwrite\").parquet(\"s3://s3-apify-instagram-raw-dta/DataSchema/post_details_df.parquet\")\n",
    "brand_df.write.mode(\"overwrite\").parquet(\"s3://s3-apify-instagram-raw-dta/DataSchema/brand_df.parquet\")\n",
    "Partnership_account.write.mode(\"overwrite\").parquet(\"s3://s3-apify-instagram-raw-dta/DataSchema/Partnership_account.parquet\")"
   ]
  },
  {
   "cell_type": "code",
   "execution_count": 0,
   "metadata": {
    "application/vnd.databricks.v1+cell": {
     "cellMetadata": {
      "byteLimit": 2048000,
      "rowLimit": 10000
     },
     "collapsed": true,
     "inputWidgets": {},
     "nuid": "f9204541-d029-40ae-a80b-c4ad89f18f08",
     "showTitle": false,
     "title": ""
    }
   },
   "outputs": [],
   "source": [
    "master_df.coalesce(1).write.mode(\"overwrite\").csv(\"s3://s3-apify-instagram-raw-dta/DataSchema/Master.csv\")\n",
    "\n",
    "post_attributes_df.coalesce(1).write.mode(\"overwrite\").csv(\"s3://s3-apify-instagram-raw-dta/DataSchema/post_attributes_df.csv\")\n",
    "post_details_df.coalesce(1).write.mode(\"overwrite\").csv(\"s3://s3-apify-instagram-raw-dta/DataSchema/post_details_df.csv\")\n",
    "brand_df.coalesce(1).write.mode(\"overwrite\").csv(\"s3://s3-apify-instagram-raw-dta/DataSchema/brand_df.csv\")\n",
    "Partnership_account.coalesce(1).write.mode(\"overwrite\").csv(\"s3://s3-apify-instagram-raw-dta/DataSchema/Partnership_account.csv\")"
   ]
  },
  {
   "cell_type": "code",
   "execution_count": 0,
   "metadata": {
    "application/vnd.databricks.v1+cell": {
     "cellMetadata": {
      "byteLimit": 2048000,
      "rowLimit": 10000
     },
     "inputWidgets": {},
     "nuid": "f0bc706b-cae7-47c4-869f-78b4bf6757c5",
     "showTitle": false,
     "title": ""
    }
   },
   "outputs": [
    {
     "output_type": "stream",
     "name": "stdout",
     "output_type": "stream",
     "text": [
      "DataFrame Master has been saved as CSV to s3://s3-apify-instagram-raw-dta/DataSchema/Master.csv\nDataFrame Master has been saved as Parquet to s3://s3-apify-instagram-raw-dta/DataSchema/Master.parquet\nDataFrame post_attributes has been saved as CSV to s3://s3-apify-instagram-raw-dta/DataSchema/post_attributes.csv\nDataFrame post_attributes has been saved as Parquet to s3://s3-apify-instagram-raw-dta/DataSchema/post_attributes.parquet\nDataFrame post_details has been saved as CSV to s3://s3-apify-instagram-raw-dta/DataSchema/post_details.csv\nDataFrame post_details has been saved as Parquet to s3://s3-apify-instagram-raw-dta/DataSchema/post_details.parquet\nDataFrame brand has been saved as CSV to s3://s3-apify-instagram-raw-dta/DataSchema/brand.csv\nDataFrame brand has been saved as Parquet to s3://s3-apify-instagram-raw-dta/DataSchema/brand.parquet\nDataFrame account has been saved as CSV to s3://s3-apify-instagram-raw-dta/DataSchema/account.csv\nDataFrame account has been saved as Parquet to s3://s3-apify-instagram-raw-dta/DataSchema/account.parquet\nDataFrame Partnership_account has been saved as CSV to s3://s3-apify-instagram-raw-dta/DataSchema/Partnership_account.csv\nDataFrame Partnership_account has been saved as Parquet to s3://s3-apify-instagram-raw-dta/DataSchema/Partnership_account.parquet\n"
     ]
    }
   ],
   "source": [
    "dataframe_list = [\n",
    "    (master_df, \"Master\"),\n",
    "    (post_attributes_df, \"post_attributes\"),\n",
    "    (brand_df, \"brand\"),\n",
    "    (account_df, \"account\"),\n",
    "    (Partnership_account, \"Partnership_account\")\n",
    "]\n",
    "\n",
    "\n",
    "for df, name in dataframe_list:\n",
    "    csv_s3_path = f\"{base_s3_df_path}{name}.csv\"\n",
    "    parquet_s3_path = f\"{base_s3_df_path}{name}.parquet\"\n",
    "\n",
    "    # Save as CSV\n",
    "    df.coalesce(1).write.mode(\"overwrite\").option(\"header\", \"true\").csv(csv_s3_path)\n",
    "    print(f\"DataFrame {name} has been saved as CSV to {csv_s3_path}\")\n",
    "\n",
    "    # Save as Parquet\n",
    "    df.coalesce(1).write.mode(\"overwrite\").option(\"header\", \"true\").parquet(parquet_s3_path)\n",
    "    print(f\"DataFrame {name} has been saved as Parquet to {parquet_s3_path}\")\n"
   ]
  }
 ],
 "metadata": {
  "application/vnd.databricks.v1+notebook": {
   "dashboards": [],
   "language": "python",
   "notebookMetadata": {
    "pythonIndentUnit": 4
   },
   "notebookName": "INS DATA TRANSFORMATION",
   "widgets": {}
  }
 },
 "nbformat": 4,
 "nbformat_minor": 0
}
